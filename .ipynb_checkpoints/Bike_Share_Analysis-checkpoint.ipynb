{
 "cells": [
  {
   "cell_type": "markdown",
   "metadata": {},
   "source": [
    "# 2016 US Bike Share Activity Snapshot\n",
    "\n",
    "## Table of Contents\n",
    "- [Introduction](#intro)\n",
    "- [Posing Questions](#pose_questions)\n",
    "- [Data Collection and Wrangling](#wrangling)\n",
    "  - [Condensing the Trip Data](#condensing)\n",
    "- [Exploratory Data Analysis](#eda)\n",
    "  - [Statistics](#statistics)\n",
    "  - [Visualizations](#visualizations)\n",
    "- [Performing Your Own Analysis](#eda_continued)\n",
    "- [Conclusions](#conclusions)\n",
    "\n",
    "<a id='intro'></a>\n",
    "## Introduction\n",
    "\n",
    "Over the past decade, bicycle-sharing systems have been growing in number and popularity in cities across the world. Bicycle-sharing systems allow users to rent bicycles for short trips, typically 30 minutes or less. Thanks to the rise in information technologies, it is easy for a user of the system to access a dock within the system to unlock or return bicycles. These technologies also provide a wealth of data that can be used to explore how these bike-sharing systems are used.\n",
    "\n",
    "In this project, we will perform an exploratory analysis on data provided by [Motivate](https://www.motivateco.com/), a bike-share system provider for many major cities in the United States. We will compare the system usage between three large cities: New York City, Chicago, and Washington, DC. We will also see if there are any differences within each system for those users that are registered, regular users and those users that are short-term, casual users."
   ]
  },
  {
   "cell_type": "markdown",
   "metadata": {},
   "source": [
    "<a id='pose_questions'></a>\n",
    "## Posing Questions\n",
    "\n",
    "What days are subscribers and customers more actively using the service?\n",
    "\n",
    "Does day of the week have an effect on duration of trips?\n"
   ]
  },
  {
   "cell_type": "markdown",
   "metadata": {},
   "source": [
    "<a id='wrangling'></a>\n",
    "## Data Collection and Wrangling\n",
    "\n",
    "Now it's time to collect and explore our data. In this project, we will focus on the record of individual trips taken in 2016 from our selected cities: New York City, Chicago, and Washington, DC. Each of these cities has a page where we can freely download the trip data.:\n",
    "\n",
    "- New York City (Citi Bike): [Link](https://www.citibikenyc.com/system-data)\n",
    "- Chicago (Divvy): [Link](https://www.divvybikes.com/system-data)\n",
    "- Washington, DC (Capital Bikeshare): [Link](https://www.capitalbikeshare.com/system-data)\n"
   ]
  },
  {
   "cell_type": "code",
   "execution_count": 34,
   "metadata": {
    "collapsed": true
   },
   "outputs": [],
   "source": [
    "## import all necessary packages and functions.\n",
    "import csv # read and write csv files\n",
    "from datetime import datetime # operations to parse dates\n",
    "from pprint import pprint # use to print data structures like dictionaries in\n",
    "                          # a nicer way than the base print function."
   ]
  },
  {
   "cell_type": "code",
   "execution_count": 35,
   "metadata": {},
   "outputs": [
    {
     "name": "stdout",
     "output_type": "stream",
     "text": [
      "\n",
      "City: NYC\n",
      "OrderedDict([('tripduration', '839'), ('starttime', '1/1/2016 00:09:55'), ('stoptime', '1/1/2016 00:23:54'), ('start station id', '532'), ('start station name', 'S 5 Pl & S 4 St'), ('start station latitude', '40.710451'), ('start station longitude', '-73.960876'), ('end station id', '401'), ('end station name', 'Allen St & Rivington St'), ('end station latitude', '40.72019576'), ('end station longitude', '-73.98997825'), ('bikeid', '17109'), ('usertype', 'Customer'), ('birth year', ''), ('gender', '0')])\n",
      "\n",
      "City: Chicago\n",
      "OrderedDict([('trip_id', '9080545'), ('starttime', '3/31/2016 23:30'), ('stoptime', '3/31/2016 23:46'), ('bikeid', '2295'), ('tripduration', '926'), ('from_station_id', '156'), ('from_station_name', 'Clark St & Wellington Ave'), ('to_station_id', '166'), ('to_station_name', 'Ashland Ave & Wrightwood Ave'), ('usertype', 'Subscriber'), ('gender', 'Male'), ('birthyear', '1990')])\n",
      "\n",
      "City: Washington\n",
      "OrderedDict([('Duration (ms)', '427387'), ('Start date', '3/31/2016 22:57'), ('End date', '3/31/2016 23:04'), ('Start station number', '31602'), ('Start station', 'Park Rd & Holmead Pl NW'), ('End station number', '31207'), ('End station', 'Georgia Ave and Fairmont St NW'), ('Bike number', 'W20842'), ('Member Type', 'Registered')])\n"
     ]
    }
   ],
   "source": [
    "def print_first_point(filename):\n",
    "    \"\"\"\n",
    "    This function prints and returns the first data point (second row) from\n",
    "    a csv file that includes a header row.\n",
    "    \"\"\"\n",
    "    # print city name for reference\n",
    "    city = filename.split('-')[0].split('/')[-1]\n",
    "    print('\\nCity: {}'.format(city))\n",
    "    \n",
    "    with open(filename, 'r') as f_in:\n",
    "        trip_reader = csv.DictReader(f_in)\n",
    "        ## TODO: Use the csv library to set up a DictReader object. ##\n",
    "        ## see https://docs.python.org/3/library/csv.html           ##\n",
    "        \n",
    "        ## TODO: Use a function on the DictReader object to read the     ##\n",
    "        ## first trip from the data file and store it in a variable.     ##\n",
    "        ## see https://docs.python.org/3/library/csv.html#reader-objects ##\n",
    "        first_trip = next(trip_reader)\n",
    "        \n",
    "        ## TODO: Use the pprint library to print the first trip. ##\n",
    "        ## see https://docs.python.org/3/library/pprint.html     ##\n",
    "        \n",
    "    # output city name and first trip for later testing\n",
    "    return (city, first_trip)\n",
    "\n",
    "# list of files for each city\n",
    "data_files = ['./data/NYC-CitiBike-2016.csv',\n",
    "              './data/Chicago-Divvy-2016.csv',\n",
    "              './data/Washington-CapitalBikeshare-2016.csv',]\n",
    "\n",
    "# print the first trip from each file, store in dictionary\n",
    "example_trips = {}\n",
    "for data_file in data_files:\n",
    "    city, first_trip = print_first_point(data_file)\n",
    "    example_trips[city] = first_trip\n",
    "    print(example_trips[city])\n"
   ]
  },
  {
   "cell_type": "markdown",
   "metadata": {},
   "source": [
    "\n",
    "\n",
    "<a id='condensing'></a>\n",
    "### Condensing the Trip Data\n",
    "\n",
    "It should also be observable from the above printout that each city provides different information. Even where the information is the same, the column names and formats are sometimes different. To make things as simple as possible when we get to the actual exploration, we should trim and clean the data. Cleaning the data makes sure that the data formats across the cities are consistent, while trimming focuses only on the parts of the data we are most interested in to make the exploration easier to work with.\n",
    "\n",
    "We will generate new data files with five values of interest for each trip: trip duration, starting month, starting hour, day of the week, and user type. Each of these may require additional wrangling depending on the city:\n",
    "\n",
    "- **Duration**: This has been given to us in seconds (New York, Chicago) or milliseconds (Washington). A more natural unit of analysis will be if all the trip durations are given in terms of minutes.\n",
    "- **Month**, **Hour**, **Day of Week**: Ridership volume is likely to change based on the season, time of day, and whether it is a weekday or weekend. Use the start time of the trip to obtain these values. The New York City data includes the seconds in their timestamps, while Washington and Chicago do not. The [`datetime`](https://docs.python.org/3/library/datetime.html) package will be very useful here to make the needed conversions.\n",
    "- **User Type**: It is possible that users who are subscribed to a bike-share system will have different patterns of use compared to users who only have temporary passes. Washington divides its users into two types: 'Registered' for users with annual, monthly, and other longer-term subscriptions, and 'Casual', for users with 24-hour, 3-day, and other short-term passes. The New York and Chicago data uses 'Subscriber' and 'Customer' for these groups, respectively. For consistency, we will convert the Washington labels to match the other two. It also turns out that there are some trips in the New York city dataset that do not have an attached user type. Since we don't have enough information to fill these values in, we will \n",
    "just leave them as-is for now."
   ]
  },
  {
   "cell_type": "code",
   "execution_count": 36,
   "metadata": {
    "collapsed": true
   },
   "outputs": [],
   "source": [
    "def duration_in_mins(datum, city):\n",
    "    \"\"\"\n",
    "    Takes as input a dictionary containing info about a single trip (datum) and\n",
    "    its origin city (city) and returns the trip duration in units of minutes.\n",
    "    \n",
    "    Remember that Washington is in terms of milliseconds while Chicago and NYC\n",
    "    are in terms of seconds. \n",
    "    \"\"\"\n",
    "    \n",
    "    mill_to_min = 60000.0\n",
    "    sec_to_min = 60.0\n",
    "    if city == \"Washington\":\n",
    "        duration = float(datum[\"Duration (ms)\"])/mill_to_min\n",
    "    elif city == \"Chicago\" or city == \"NYC\":\n",
    "        duration = float(datum[\"tripduration\"])/sec_to_min\n",
    "    return duration\n",
    "\n",
    "tests = {'NYC': 13.9833,\n",
    "         'Chicago': 15.4333,\n",
    "         'Washington': 7.1231}\n",
    "\n",
    "for city in tests:\n",
    "    assert abs(duration_in_mins(example_trips[city], city) - tests[city]) < .001"
   ]
  },
  {
   "cell_type": "code",
   "execution_count": 37,
   "metadata": {
    "collapsed": true
   },
   "outputs": [],
   "source": [
    "def time_of_trip(datum, city):\n",
    "    \"\"\"\n",
    "    Takes as input a dictionary containing info about a single trip (datum) and\n",
    "    its origin city (city) and returns the month, hour, and day of the week in\n",
    "    which the trip was made.\n",
    "    \"\"\"\n",
    "    if city == \"Washington\":\n",
    "        time_date = datetime.strptime(datum[\"Start date\"], \"%m/%d/%Y %H:%M\")\n",
    "    elif city == \"Chicago\":\n",
    "        time_date = datetime.strptime(datum[\"starttime\"], \"%m/%d/%Y %H:%M\")\n",
    "    elif city == \"NYC\":\n",
    "        time_date = datetime.strptime(datum[\"starttime\"], \"%m/%d/%Y %H:%M:%S\")\n",
    "    \n",
    "    month = int(time_date.strftime(\"%m\"))\n",
    "    hour = int(time_date.strftime(\"%H\"))\n",
    "    day_of_week = time_date.strftime(\"%A\")\n",
    "    \n",
    "    return (month, hour, day_of_week)\n",
    "\n",
    "tests = {'NYC': (1, 0, 'Friday'),\n",
    "         'Chicago': (3, 23, 'Thursday'),\n",
    "         'Washington': (3, 22, 'Thursday')}\n",
    "\n",
    "for city in tests:\n",
    "    assert time_of_trip(example_trips[city], city) == tests[city]\n",
    "\n"
   ]
  },
  {
   "cell_type": "code",
   "execution_count": 38,
   "metadata": {
    "collapsed": true
   },
   "outputs": [],
   "source": [
    "def type_of_user(datum, city):\n",
    "    \"\"\"\n",
    "    Takes as input a dictionary containing info about a single trip (datum) and\n",
    "    its origin city (city) and returns the type of system user that made the\n",
    "    trip.\n",
    "    \"\"\"\n",
    "    \n",
    "    if city == \"Washington\":\n",
    "        if datum[\"Member Type\"] == \"Registered\":\n",
    "            user_type = \"Subscriber\"\n",
    "        else:\n",
    "            user_type = \"Customer\"\n",
    "    elif city == \"Chicago\":\n",
    "        if datum[\"usertype\"] == \"Subscriber\":\n",
    "            user_type = \"Subscriber\"\n",
    "        else:\n",
    "            user_type = \"Customer\" \n",
    "    elif city == \"NYC\":\n",
    "        if datum[\"usertype\"] == \"Subscriber\":\n",
    "            user_type = \"Subscriber\"\n",
    "        elif datum[\"usertype\"] == \"Customer\":\n",
    "            user_type = \"Customer\"\n",
    "        else:\n",
    "            user_type = \"\"    \n",
    "    \n",
    "    return user_type\n",
    "\n",
    "tests = {'NYC': 'Customer',\n",
    "         'Chicago': 'Subscriber',\n",
    "         'Washington': 'Subscriber'}\n",
    "\n",
    "for city in tests:\n",
    "    assert type_of_user(example_trips[city], city) == tests[city]"
   ]
  },
  {
   "cell_type": "code",
   "execution_count": 39,
   "metadata": {
    "collapsed": true
   },
   "outputs": [],
   "source": [
    "def condense_data(in_file, out_file, city):\n",
    "    \"\"\"\n",
    "    This function takes full data from the specified input file\n",
    "    and writes the condensed data to a specified output file. The city\n",
    "    argument determines how the input file will be parsed.\n",
    "    \"\"\"\n",
    "    \n",
    "    with open(out_file, 'w', newline='') as f_out, open(in_file, 'r') as f_in:\n",
    "        # set up csv DictWriter object\n",
    "        out_colnames = ['duration', 'month', 'hour', 'day_of_week', 'user_type']        \n",
    "        trip_writer = csv.DictWriter(f_out, fieldnames = out_colnames)\n",
    "        trip_writer.writeheader()\n",
    "        \n",
    "        #set up csv DictReader object\n",
    "        trip_reader = csv.DictReader(f_in)\n",
    "\n",
    "        # collect data from and process each row\n",
    "        for row in trip_reader:\n",
    "            new_point = {}\n",
    "            new_point[\"duration\"] = duration_in_mins(row, city)\n",
    "            month, hour, day_of_week = time_of_trip(row, city)\n",
    "            new_point[\"month\"] = month\n",
    "            new_point[\"hour\"] = hour\n",
    "            new_point[\"day_of_week\"] = day_of_week\n",
    "            new_point[\"user_type\"] = type_of_user(row, city)\n",
    "            \n",
    "            trip_writer.writerow(new_point)\n",
    "                     "
   ]
  },
  {
   "cell_type": "code",
   "execution_count": 40,
   "metadata": {},
   "outputs": [
    {
     "name": "stdout",
     "output_type": "stream",
     "text": [
      "\n",
      "City: Washington\n",
      "\n",
      "City: Chicago\n",
      "\n",
      "City: NYC\n"
     ]
    }
   ],
   "source": [
    "# Check\n",
    "city_info = {'Washington': {'in_file': './data/Washington-CapitalBikeshare-2016.csv',\n",
    "                            'out_file': './data/Washington-2016-Summary.csv'},\n",
    "             'Chicago': {'in_file': './data/Chicago-Divvy-2016.csv',\n",
    "                         'out_file': './data/Chicago-2016-Summary.csv'},\n",
    "             'NYC': {'in_file': './data/NYC-CitiBike-2016.csv',\n",
    "                     'out_file': './data/NYC-2016-Summary.csv'}}\n",
    "\n",
    "for city, filenames in city_info.items():\n",
    "    condense_data(filenames['in_file'], filenames['out_file'], city)\n",
    "    print_first_point(filenames['out_file'])"
   ]
  },
  {
   "cell_type": "markdown",
   "metadata": {},
   "source": [
    "\n",
    "<a id='eda'></a>\n",
    "## Exploratory Data Analysis\n",
    "\n",
    "Now that we have the data collected and wrangled, we're ready to start exploring the data. In this section we will write some code to compute descriptive statistics from the data.\n",
    "\n",
    "<a id='statistics'></a>\n",
    "### Statistics\n",
    "\n",
    "First, let's compute some basic counts."
   ]
  },
  {
   "cell_type": "code",
   "execution_count": 41,
   "metadata": {},
   "outputs": [
    {
     "name": "stdout",
     "output_type": "stream",
     "text": [
      "\n",
      "NYC had a total number of 276081 trips recorded. These consisted of 245896 by subscribers and 30185 by customers.\n",
      "\n",
      "Chicago had a total number of 72131 trips recorded. These consisted of 54982 by subscribers and 17149 by customers.\n",
      "\n",
      "Washington had a total number of 66326 trips recorded. These consisted of 51753 by subscribers and 14573 by customers.\n",
      "\n",
      "Bay Area had a total number of 6299 trips recorded. These consisted of 5666 by subscribers and 633 by customers.\n"
     ]
    }
   ],
   "source": [
    "def number_of_trips(filename):\n",
    "    \"\"\"\n",
    "    This function reads in a file with trip data and reports the number of\n",
    "    trips made by subscribers, customers, and total overall.\n",
    "    \"\"\"\n",
    "    with open(filename, 'r') as f_in:\n",
    "        # set up csv reader object\n",
    "        reader = csv.DictReader(f_in)\n",
    "        \n",
    "        # initialize count variables\n",
    "        n_subscribers = 0\n",
    "        n_customers = 0\n",
    "        \n",
    "        # tally up ride types\n",
    "        for row in reader:\n",
    "            if row['user_type'] == 'Subscriber':\n",
    "                n_subscribers += 1\n",
    "            elif row['user_type'] == 'Customer':\n",
    "                n_customers += 1\n",
    "        \n",
    "        # compute total number of rides\n",
    "        n_total = n_subscribers + n_customers\n",
    "        \n",
    "        # return tallies as a tuple\n",
    "        return(n_subscribers, n_customers, n_total)\n",
    "\n",
    "    \n",
    "def con_data(city_count, city):\n",
    "    \"\"\"\n",
    "    Function takes in number of trips function and city. Outputs a string formatted to present\n",
    "    the count data. \n",
    "    \"\"\"\n",
    "    print(\"\\n{} had a total number of {} trips recorded. These consisted of {} by subscribers and {} by customers.\" \\\n",
    "          .format(city, city_count[2], city_count[0], city_count[1]))\n",
    "    \n",
    "con_data(number_of_trips(\"./data/NYC-2016-Summary.csv\"), \"NYC\")\n",
    "con_data(number_of_trips(\"./data/Chicago-2016-Summary.csv\"), \"Chicago\")\n",
    "con_data(number_of_trips(\"./data/Washington-2016-Summary.csv\"), \"Washington\")\n",
    "con_data(number_of_trips(\"./data/BayArea-Y3-Summary.csv\"), \"Bay Area\")\n"
   ]
  },
  {
   "cell_type": "code",
   "execution_count": 42,
   "metadata": {},
   "outputs": [
    {
     "name": "stdout",
     "output_type": "stream",
     "text": [
      "\n",
      " Total trips in NYC were comprised of 89.07% subscribers and 10.93% customers.\n",
      "\n",
      " Total trips in Chicago were comprised of 76.23% subscribers and 23.77% customers.\n",
      "\n",
      " Total trips in Washington were comprised of 78.03% subscribers and 21.97% customers.\n",
      "\n",
      " Total trips in Bay Area were comprised of 89.95% subscribers and 10.05% customers.\n"
     ]
    }
   ],
   "source": [
    "def proportions(city_count):\n",
    "    '''\n",
    "    Function takes in a tuple (subscriber count, customer count, total count) and performs calculation to find\n",
    "    the proportions each make up of the total. It then returns these proportions as a tuple\n",
    "    '''\n",
    "    subscriber_prop = format((city_count[0]/city_count[2])*100, '.2f')\n",
    "    customer_prop = format((city_count[1]/city_count[2])*100, '.2f')\n",
    "    return(subscriber_prop, customer_prop)\n",
    "\n",
    "def prop_data(city_props, city):\n",
    "    \"\"\"\n",
    "    Function takes in prop data tuple and a city string and outputs a formatted sentence displaying proportion data\n",
    "    \"\"\"\n",
    "    print(\"\\n Total trips in {} were comprised of {}% subscribers and {}% customers.\" \\\n",
    "          .format(city, city_props[0], city_props[1]))\n",
    "    \n",
    "prop_data(proportions(number_of_trips(\"./data/NYC-2016-Summary.csv\")), \"NYC\")\n",
    "prop_data(proportions(number_of_trips(\"./data/Chicago-2016-Summary.csv\")), \"Chicago\")\n",
    "prop_data(proportions(number_of_trips(\"./data/Washington-2016-Summary.csv\")), \"Washington\")\n",
    "prop_data(proportions(number_of_trips(\"./data/BayArea-Y3-Summary.csv\")), \"Bay Area\")"
   ]
  },
  {
   "cell_type": "code",
   "execution_count": 43,
   "metadata": {
    "collapsed": true,
    "scrolled": true
   },
   "outputs": [],
   "source": [
    "def trip_length(filename):\n",
    "    '''\n",
    "    Function takes in a filename for a csv data file. It then creates a list of durations from the read data\n",
    "    '''\n",
    "    with open(filename, 'r') as f_in:\n",
    "        # set up csv reader object\n",
    "        reader = csv.DictReader(f_in)\n",
    "        durations = []\n",
    "        for row in reader:\n",
    "            row[\"duration\"] = float(row[\"duration\"])\n",
    "            durations.append(row[\"duration\"])\n",
    "    return durations\n"
   ]
  },
  {
   "cell_type": "code",
   "execution_count": 44,
   "metadata": {},
   "outputs": [
    {
     "name": "stdout",
     "output_type": "stream",
     "text": [
      "\n",
      "Average trip duration for NYC was 15.81 minutes\n",
      "\n",
      "Average trip duration for Chicago was 16.56 minutes\n",
      "\n",
      "Average trip duration for Washington was 18.93 minutes\n",
      "\n",
      "Average trip duration for the Bay Area was 14.04 minutes\n"
     ]
    }
   ],
   "source": [
    "def avg_duration(city_duration):\n",
    "    '''\n",
    "    Simple function that returns the mean of a list of values.\n",
    "    '''\n",
    "    average = format(sum(city_duration)/len(city_duration), '.2f')\n",
    "    return average\n",
    "\n",
    "print(\"\\nAverage trip duration for NYC was {} minutes\".format(avg_duration(trip_length(\"./data/NYC-2016-Summary.csv\"))))\n",
    "print(\"\\nAverage trip duration for Chicago was {} minutes\".format(avg_duration(trip_length(\"./data/Chicago-2016-Summary.csv\"))))\n",
    "print(\"\\nAverage trip duration for Washington was {} minutes\".format(avg_duration(trip_length(\"./data/Washington-2016-Summary.csv\"))))\n",
    "print(\"\\nAverage trip duration for the Bay Area was {} minutes\".format(avg_duration(trip_length('./data/BayArea-Y3-Summary.csv'))))"
   ]
  },
  {
   "cell_type": "code",
   "execution_count": 45,
   "metadata": {},
   "outputs": [
    {
     "name": "stdout",
     "output_type": "stream",
     "text": [
      "\n",
      "In NYC, 7.30% of trips were over 30 minutes long\n",
      "\n",
      "In Chicago, 8.33% of trips were over 30 minutes long\n",
      "\n",
      "In Washington, 10.84% of trips were over 30 minutes long\n",
      "\n",
      "In the Bay Area, 3.52% of trips were over 30 minutes long\n"
     ]
    }
   ],
   "source": [
    "def under_thirty_dur(durations):\n",
    "    '''\n",
    "    Function that takes in a list of durations and performs a tally of those under and over 30 minutes. \n",
    "    Returns the over 30 count.\n",
    "    '''\n",
    "    under_tally = 0\n",
    "    over_tally = 0\n",
    "    for item in durations:\n",
    "        if item <= 30.0:\n",
    "            under_tally += 1\n",
    "        else:\n",
    "            over_tally += 1\n",
    "    over_prop = format((over_tally/(over_tally + under_tally))* 100, '.2f')\n",
    "    return over_prop\n",
    "\n",
    "print(\"\\nIn NYC, {}% of trips were over 30 minutes long\".format(under_thirty_dur(trip_length(\"./data/NYC-2016-Summary.csv\"))))\n",
    "print(\"\\nIn Chicago, {}% of trips were over 30 minutes long\".format(under_thirty_dur(trip_length(\"./data/Chicago-2016-Summary.csv\"))))\n",
    "print(\"\\nIn Washington, {}% of trips were over 30 minutes long\".format(under_thirty_dur(trip_length(\"./data/Washington-2016-Summary.csv\"))))\n",
    "print(\"\\nIn the Bay Area, {}% of trips were over 30 minutes long\".format(under_thirty_dur(trip_length('./data/BayArea-Y3-Summary.csv'))))"
   ]
  },
  {
   "cell_type": "code",
   "execution_count": 46,
   "metadata": {},
   "outputs": [
    {
     "name": "stdout",
     "output_type": "stream",
     "text": [
      "\n",
      "In NYC, the average trip time of subscribers was 13.68 minutes and the average trip time of customers was 32.78 minutes.\n",
      "None\n",
      "\n",
      "In Chicago, the average trip time of subscribers was 12.07 minutes and the average trip time of customers was 30.98 minutes.\n",
      "None\n",
      "\n",
      "In Washington, the average trip time of subscribers was 12.53 minutes and the average trip time of customers was 41.68 minutes.\n",
      "None\n",
      "\n",
      "In The Bay Area, the average trip time of subscribers was 9.51 minutes and the average trip time of customers was 54.55 minutes.\n",
      "None\n"
     ]
    }
   ],
   "source": [
    "def longer_users(filename):\n",
    "    '''\n",
    "    Function that takes in data from a csv file and divides durations based on user type. Returns a tuple of lists\n",
    "    containing the durations for each. \n",
    "    '''\n",
    "    with open(filename, 'r') as f_in:\n",
    "        reader = csv.DictReader(f_in)\n",
    "        subscriber_duration = []\n",
    "        customer_duration = []\n",
    "        for row in reader:\n",
    "            row[\"duration\"] = float(row[\"duration\"])\n",
    "            if row[\"user_type\"] == \"Subscriber\":\n",
    "                subscriber_duration.append(row[\"duration\"])\n",
    "            else:\n",
    "                customer_duration.append(row[\"duration\"])\n",
    "        return subscriber_duration, customer_duration\n",
    "        \n",
    "    \n",
    "\n",
    "def avg_users(user_data):\n",
    "    '''\n",
    "    Simple function that passes both the values from the input tuple through the av_duration function\n",
    "    returns the average for both in tuple form. \n",
    "    '''\n",
    "    sub_average = float(avg_duration(user_data[0]))\n",
    "    cus_average = float(avg_duration(user_data[1]))\n",
    "    return sub_average, cus_average\n",
    "\n",
    "def user_form(longest_users, city):\n",
    "    '''\n",
    "    Function used to format the average data into a readable print statement\n",
    "    '''\n",
    "    sub_avg, cus_avg = longest_users\n",
    "    \n",
    "    print(\"\\nIn {}, the average trip time of subscribers was {} minutes and the average trip time of customers was {} minutes.\" \\\n",
    "         .format(city, sub_avg, cus_avg))\n",
    "    \n",
    "print(user_form(avg_users(longer_users(\"./data/NYC-2016-Summary.csv\")), \"NYC\"))\n",
    "print(user_form(avg_users(longer_users(\"./data/Chicago-2016-Summary.csv\")), \"Chicago\"))\n",
    "print(user_form(avg_users(longer_users(\"./data/Washington-2016-Summary.csv\")), \"Washington\"))\n",
    "print(user_form(avg_users(longer_users(\"./data/BayArea-Y3-Summary.csv\")), \"The Bay Area\"))"
   ]
  },
  {
   "cell_type": "markdown",
   "metadata": {},
   "source": [
    "<a id='visualizations'></a>\n",
    "### Visualizations\n",
    "\n",
    "While the mean trip time for Subscribers is well under 30 minutes, the mean trip time for Customers is actually _above_ 30 minutes! It will be interesting for us to look at how the trip times are distributed."
   ]
  },
  {
   "cell_type": "code",
   "execution_count": 47,
   "metadata": {},
   "outputs": [],
   "source": [
    "# load library\n",
    "import matplotlib.pyplot as plt\n",
    "import numpy as np\n",
    "\n",
    "%matplotlib inline "
   ]
  },
  {
   "cell_type": "code",
   "execution_count": 48,
   "metadata": {},
   "outputs": [
    {
     "data": {
      "image/png": "[encoded data removed]",
      "text/plain": [
       "<matplotlib.figure.Figure at 0xfdc6fc2e10>"
      ]
     },
     "metadata": {},
     "output_type": "display_data"
    }
   ],
   "source": [
    "## Use this and additional cells to answer Question 5. ##\n",
    "plt.hist(longer_users(\"./data/NYC-2016-Summary.csv\")[0], bins = 15, range = (0, 75))\n",
    "plt.title('Distribution of Subscriber Trip Durations')\n",
    "plt.xlabel('Duration (m)')\n",
    "plt.show()"
   ]
  },
  {
   "cell_type": "code",
   "execution_count": 49,
   "metadata": {},
   "outputs": [
    {
     "data": {
      "image/png": "[encoded data removed]",
      "text/plain": [
       "<matplotlib.figure.Figure at 0xfdc65d3898>"
      ]
     },
     "metadata": {},
     "output_type": "display_data"
    }
   ],
   "source": [
    "plt.hist(longer_users(\"./data/NYC-2016-Summary.csv\")[1], bins = 15, range = (0, 75))\n",
    "plt.title('Distribution of Customer Trip Durations')\n",
    "plt.xlabel('Duration (m)')\n",
    "plt.show()"
   ]
  },
  {
   "cell_type": "code",
   "execution_count": 50,
   "metadata": {
    "collapsed": true
   },
   "outputs": [],
   "source": [
    "def read_in_city(filename):\n",
    "    '''\n",
    "    Function to read in data from a csv file and return an ordered dict from this data\n",
    "    '''\n",
    "    with open(filename, 'r') as f_in:\n",
    "        reader = csv.DictReader(f_in)\n",
    "        return list(reader)\n",
    "    \n",
    "NYC_data = read_in_city(\"./data/NYC-2016-Summary.csv\")\n",
    "Chicago_data = read_in_city(\"./data/Chicago-2016-Summary.csv\")\n",
    "Washington_data = read_in_city(\"./data/Washington-2016-Summary.csv\")\n",
    "Bay_area_data = read_in_city(\"./data/BayArea-Y3-Summary.csv\")"
   ]
  },
  {
   "cell_type": "markdown",
   "metadata": {},
   "source": [
    "### Durations for all NYC users sorted by day of week"
   ]
  },
  {
   "cell_type": "code",
   "execution_count": 51,
   "metadata": {},
   "outputs": [
    {
     "name": "stdout",
     "output_type": "stream",
     "text": [
      "[15.07595238095228, 14.297031403529449, 14.636322047696872, 14.552951725693545, 16.023964096740567, 18.795957884848054, 18.789433954239893]\n"
     ]
    }
   ],
   "source": [
    "from collections import OrderedDict\n",
    "\n",
    "def dur_per_day(city_data):\n",
    "    '''\n",
    "    Function to sort an input ordered dict into a dictionary of lists for each day of the week. Returns dictionary.\n",
    "    '''\n",
    "    day_sorted = OrderedDict([(\"Monday\", []), (\"Tuesday\", []), (\"Wednesday\", []), (\"Thursday\", []), (\"Friday\", []), (\"Saturday\", []), (\"Sunday\", [])])\n",
    "    for trip in city_data:\n",
    "            day_sorted[trip[\"day_of_week\"]].append(float(trip[\"duration\"]))\n",
    "    return day_sorted\n",
    "\n",
    "def avg_per_day(day_data):\n",
    "    '''\n",
    "    Function that will find the averages of list items in a dictionary and return a list of these averages for use\n",
    "    in visualisations.\n",
    "    '''\n",
    "    day_averages = []\n",
    "    for day in day_data:\n",
    "        day_averages.append(sum(day_data[day])/len(day_data[day]))\n",
    "    return day_averages\n",
    "\n",
    "print(avg_per_day(dur_per_day(NYC_data)))"
   ]
  },
  {
   "cell_type": "code",
   "execution_count": 52,
   "metadata": {},
   "outputs": [
    {
     "data": {
      "image/png": "[encoded data removed]",
      "text/plain": [
       "<matplotlib.figure.Figure at 0xfdc6fe4fd0>"
      ]
     },
     "metadata": {},
     "output_type": "display_data"
    }
   ],
   "source": [
    "objects = (\"Mon\", \"Tue\", \"Wed\", \"Thu\", \"Fri\", \"Sat\", \"Sun\")\n",
    "y_pos = np.arange(len(objects))\n",
    "performance = avg_per_day(dur_per_day(NYC_data))\n",
    " \n",
    "plt.bar(y_pos, performance, align='center', alpha=0.8)\n",
    "plt.xticks(y_pos, objects)\n",
    "plt.ylabel('Average Duration')\n",
    "plt.title('Daily rider duration for NYC')\n",
    " \n",
    "plt.show()"
   ]
  },
  {
   "cell_type": "markdown",
   "metadata": {},
   "source": [
    "As we can see from the above diagram, users will on average travel for longer durations on the weekends compared with through the week. This could be because through the week most trips are work related and weekends trips are leisure related. To explore this pattern in more detail, the following section will split user data into their two groups (subscribers and customers) and explore which group is more active on which days. "
   ]
  },
  {
   "cell_type": "markdown",
   "metadata": {},
   "source": [
    "### Sorting trip data by type of user"
   ]
  },
  {
   "cell_type": "code",
   "execution_count": 53,
   "metadata": {},
   "outputs": [
    {
     "name": "stdout",
     "output_type": "stream",
     "text": [
      "OrderedDict([('Monday', 35623), ('Tuesday', 39487), ('Wednesday', 41403), ('Thursday', 41197), ('Friday', 37606), ('Saturday', 26126), ('Sunday', 24454)])\n",
      "OrderedDict([('Monday', 3717), ('Tuesday', 2918), ('Wednesday', 3226), ('Thursday', 3133), ('Friday', 3783), ('Saturday', 7227), ('Sunday', 6898)])\n"
     ]
    }
   ],
   "source": [
    "def dur_per_day(city_data):\n",
    "    '''\n",
    "    Function to sort ordered dict into two dictionaries of day of the week counts. Returns a tuple of dictionaries.\n",
    "    '''\n",
    "    sub_sorted = OrderedDict([(\"Monday\", 0), (\"Tuesday\", 0), (\"Wednesday\", 0), (\"Thursday\", 0), (\"Friday\", 0), (\"Saturday\", 0), (\"Sunday\", 0)])\n",
    "    cus_sorted = OrderedDict([(\"Monday\", 0), (\"Tuesday\", 0), (\"Wednesday\", 0), (\"Thursday\", 0), (\"Friday\", 0), (\"Saturday\", 0), (\"Sunday\", 0)])\n",
    "    for trip in city_data:\n",
    "            if trip[\"user_type\"] == \"Subscriber\":\n",
    "                sub_sorted[trip[\"day_of_week\"]] += 1\n",
    "                #sub_sorted[trip[\"day_of_week\"]].append(float(trip[\"duration\"]))\n",
    "            else:\n",
    "                cus_sorted[trip[\"day_of_week\"]] += 1\n",
    "    return sub_sorted, cus_sorted\n",
    "\n",
    "def format_daily_dur(day_data):\n",
    "    '''\n",
    "    Function to convert dictionary of values into list of values to be used for visualisation.\n",
    "    '''\n",
    "    formed_list = []\n",
    "    for day in day_data:\n",
    "        formed_list.append(day_data[day])\n",
    "    return formed_list\n",
    "\n",
    "print(dur_per_day(NYC_data)[0])\n",
    "print(dur_per_day(NYC_data)[1])"
   ]
  },
  {
   "cell_type": "markdown",
   "metadata": {},
   "source": [
    "### Trip frequency for subscribers sorted by day of the week"
   ]
  },
  {
   "cell_type": "code",
   "execution_count": 54,
   "metadata": {},
   "outputs": [
    {
     "data": {
      "image/png": "[encoded data removed]",
      "text/plain": [
       "<matplotlib.figure.Figure at 0xfddb4aae80>"
      ]
     },
     "metadata": {},
     "output_type": "display_data"
    }
   ],
   "source": [
    "objects = (\"Mon\", \"Tue\", \"Wed\", \"Thu\", \"Fri\", \"Sat\", \"Sun\")\n",
    "y_pos = np.arange(len(objects))\n",
    "performance = format_daily_dur(dur_per_day(NYC_data)[0])\n",
    " \n",
    "plt.bar(y_pos, performance, align='center', alpha=0.8)\n",
    "plt.xticks(y_pos, objects)\n",
    "plt.ylabel('Number of Trips')\n",
    "plt.title('NYC subscriber trip frequency by day of week')\n",
    " \n",
    "plt.show()"
   ]
  },
  {
   "cell_type": "markdown",
   "metadata": {},
   "source": [
    "As we can see from the above diagram, subscribers highest frequency is on weekdays, particularly Wednesday and Thursday. This could be attributed to subscribers using the service to get to and from work, however we would need to analyse much more data to test this theory. "
   ]
  },
  {
   "cell_type": "markdown",
   "metadata": {},
   "source": [
    "### Trip frequency for customers sorted by day of the week"
   ]
  },
  {
   "cell_type": "code",
   "execution_count": 55,
   "metadata": {},
   "outputs": [
    {
     "data": {
      "image/png": "[encoded data removed]",
      "text/plain": [
       "<matplotlib.figure.Figure at 0xfddb5784e0>"
      ]
     },
     "metadata": {},
     "output_type": "display_data"
    }
   ],
   "source": [
    "objects = (\"Mon\", \"Tue\", \"Wed\", \"Thu\", \"Fri\", \"Sat\", \"Sun\")\n",
    "y_pos = np.arange(len(objects))\n",
    "performance = customer_daily_data = format_daily_dur(dur_per_day(NYC_data)[1])\n",
    " \n",
    "plt.bar(y_pos, performance, align='center', alpha=0.8)\n",
    "plt.xticks(y_pos, objects)\n",
    "plt.ylabel('Number of Trips')\n",
    "plt.title('NYC subscriber trip frequency by day of week')\n",
    " \n",
    "plt.show()"
   ]
  },
  {
   "cell_type": "markdown",
   "metadata": {},
   "source": [
    "As we can see from the above diagram, customers highest frequency is on weekends. Weekend frequency is almost double that for any of the weekdays. This could be attributed to customers using the service for leisure activities which are primarily performed on the weekends."
   ]
  },
  {
   "cell_type": "code",
   "execution_count": null,
   "metadata": {
    "collapsed": true
   },
   "outputs": [],
   "source": []
  }
 ],
 "metadata": {
  "anaconda-cloud": {},
  "kernelspec": {
   "display_name": "Python 3",
   "language": "python",
   "name": "python3"
  },
  "language_info": {
   "codemirror_mode": {
    "name": "ipython",
    "version": 3
   },
   "file_extension": ".py",
   "mimetype": "text/x-python",
   "name": "python",
   "nbconvert_exporter": "python",
   "pygments_lexer": "ipython3",
   "version": "3.6.2"
  }
 },
 "nbformat": 4,
 "nbformat_minor": 1
}
