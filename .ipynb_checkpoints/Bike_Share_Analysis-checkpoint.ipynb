{
 "cells": [
  {
   "cell_type": "markdown",
   "metadata": {},
   "source": [
    "# 2016 US Bike Share Activity Snapshot\n",
    "\n",
    "## Table of Contents\n",
    "- [Introduction](#intro)\n",
    "- [Posing Questions](#pose_questions)\n",
    "- [Data Collection and Wrangling](#wrangling)\n",
    "  - [Condensing the Trip Data](#condensing)\n",
    "- [Exploratory Data Analysis](#eda)\n",
    "  - [Statistics](#statistics)\n",
    "  - [Visualizations](#visualizations)\n",
    "- [Performing Your Own Analysis](#eda_continued)\n",
    "- [Conclusions](#conclusions)\n",
    "\n",
    "<a id='intro'></a>\n",
    "## Introduction\n",
    "\n",
    "Over the past decade, bicycle-sharing systems have been growing in number and popularity in cities across the world. Bicycle-sharing systems allow users to rent bicycles for short trips, typically 30 minutes or less. Thanks to the rise in information technologies, it is easy for a user of the system to access a dock within the system to unlock or return bicycles. These technologies also provide a wealth of data that can be used to explore how these bike-sharing systems are used.\n",
    "\n",
    "In this project, you will perform an exploratory analysis on data provided by [Motivate](https://www.motivateco.com/), a bike-share system provider for many major cities in the United States. You will compare the system usage between three large cities: New York City, Chicago, and Washington, DC. You will also see if there are any differences within each system for those users that are registered, regular users and those users that are short-term, casual users."
   ]
  },
  {
   "cell_type": "markdown",
   "metadata": {},
   "source": [
    "<a id='pose_questions'></a>\n",
    "## Posing Questions\n",
    "\n",
    "Before looking at the bike sharing data, you should start by asking questions you might want to understand about the bike share data. Consider, for example, if you were working for Motivate. What kinds of information would you want to know about in order to make smarter business decisions? If you were a user of the bike-share service, what factors might influence how you would want to use the service?\n",
    "\n",
    "**Question 1**: Write at least two questions related to bike sharing that you think could be answered by data.\n",
    "\n",
    "**Answer**: \n",
    "What days are subscribers and customers more actively using the service?\n",
    "Does day of the week have an effect on duration of trips?\n"
   ]
  },
  {
   "cell_type": "markdown",
   "metadata": {},
   "source": [
    "<a id='wrangling'></a>\n",
    "## Data Collection and Wrangling\n",
    "\n",
    "Now it's time to collect and explore our data. In this project, we will focus on the record of individual trips taken in 2016 from our selected cities: New York City, Chicago, and Washington, DC. Each of these cities has a page where we can freely download the trip data.:\n",
    "\n",
    "- New York City (Citi Bike): [Link](https://www.citibikenyc.com/system-data)\n",
    "- Chicago (Divvy): [Link](https://www.divvybikes.com/system-data)\n",
    "- Washington, DC (Capital Bikeshare): [Link](https://www.capitalbikeshare.com/system-data)\n",
    "\n",
    "If you visit these pages, you will notice that each city has a different way of delivering its data. Chicago updates with new data twice a year, Washington DC is quarterly, and New York City is monthly. **However, you do not need to download the data yourself.** The data has already been collected for you in the `/data/` folder of the project files. While the original data for 2016 is spread among multiple files for each city, the files in the `/data/` folder collect all of the trip data for the year into one file per city. Some data wrangling of inconsistencies in timestamp format within each city has already been performed for you. In addition, a random 2% sample of the original data is taken to make the exploration more manageable. \n",
    "\n",
    "**Question 2**: However, there is still a lot of data for us to investigate, so it's a good idea to start off by looking at one entry from each of the cities we're going to analyze. Run the first code cell below to load some packages and functions that you'll be using in your analysis. Then, complete the second code cell to print out the first trip recorded from each of the cities (the second line of each data file).\n"
   ]
  },
  {
   "cell_type": "code",
   "execution_count": 55,
   "metadata": {
    "collapsed": true
   },
   "outputs": [],
   "source": [
    "## import all necessary packages and functions.\n",
    "import csv # read and write csv files\n",
    "from datetime import datetime # operations to parse dates\n",
    "from pprint import pprint # use to print data structures like dictionaries in\n",
    "                          # a nicer way than the base print function."
   ]
  },
  {
   "cell_type": "code",
   "execution_count": 56,
   "metadata": {},
   "outputs": [
    {
     "name": "stdout",
     "output_type": "stream",
     "text": [
      "\n",
      "City: NYC\n",
      "OrderedDict([('tripduration', '839'), ('starttime', '1/1/2016 00:09:55'), ('stoptime', '1/1/2016 00:23:54'), ('start station id', '532'), ('start station name', 'S 5 Pl & S 4 St'), ('start station latitude', '40.710451'), ('start station longitude', '-73.960876'), ('end station id', '401'), ('end station name', 'Allen St & Rivington St'), ('end station latitude', '40.72019576'), ('end station longitude', '-73.98997825'), ('bikeid', '17109'), ('usertype', 'Customer'), ('birth year', ''), ('gender', '0')])\n",
      "\n",
      "City: Chicago\n",
      "OrderedDict([('trip_id', '9080545'), ('starttime', '3/31/2016 23:30'), ('stoptime', '3/31/2016 23:46'), ('bikeid', '2295'), ('tripduration', '926'), ('from_station_id', '156'), ('from_station_name', 'Clark St & Wellington Ave'), ('to_station_id', '166'), ('to_station_name', 'Ashland Ave & Wrightwood Ave'), ('usertype', 'Subscriber'), ('gender', 'Male'), ('birthyear', '1990')])\n",
      "\n",
      "City: Washington\n",
      "OrderedDict([('Duration (ms)', '427387'), ('Start date', '3/31/2016 22:57'), ('End date', '3/31/2016 23:04'), ('Start station number', '31602'), ('Start station', 'Park Rd & Holmead Pl NW'), ('End station number', '31207'), ('End station', 'Georgia Ave and Fairmont St NW'), ('Bike number', 'W20842'), ('Member Type', 'Registered')])\n"
     ]
    }
   ],
   "source": [
    "def print_first_point(filename):\n",
    "    \"\"\"\n",
    "    This function prints and returns the first data point (second row) from\n",
    "    a csv file that includes a header row.\n",
    "    \"\"\"\n",
    "    # print city name for reference\n",
    "    city = filename.split('-')[0].split('/')[-1]\n",
    "    print('\\nCity: {}'.format(city))\n",
    "    \n",
    "    with open(filename, 'r') as f_in:\n",
    "        trip_reader = csv.DictReader(f_in)\n",
    "        ## TODO: Use the csv library to set up a DictReader object. ##\n",
    "        ## see https://docs.python.org/3/library/csv.html           ##\n",
    "        \n",
    "        ## TODO: Use a function on the DictReader object to read the     ##\n",
    "        ## first trip from the data file and store it in a variable.     ##\n",
    "        ## see https://docs.python.org/3/library/csv.html#reader-objects ##\n",
    "        first_trip = next(trip_reader)\n",
    "        \n",
    "        ## TODO: Use the pprint library to print the first trip. ##\n",
    "        ## see https://docs.python.org/3/library/pprint.html     ##\n",
    "        \n",
    "    # output city name and first trip for later testing\n",
    "    return (city, first_trip)\n",
    "\n",
    "# list of files for each city\n",
    "data_files = ['./data/NYC-CitiBike-2016.csv',\n",
    "              './data/Chicago-Divvy-2016.csv',\n",
    "              './data/Washington-CapitalBikeshare-2016.csv',]\n",
    "\n",
    "# print the first trip from each file, store in dictionary\n",
    "example_trips = {}\n",
    "for data_file in data_files:\n",
    "    city, first_trip = print_first_point(data_file)\n",
    "    example_trips[city] = first_trip\n",
    "    print(example_trips[city])\n"
   ]
  },
  {
   "cell_type": "markdown",
   "metadata": {},
   "source": [
    "If everything has been filled out correctly, you should see below the printout of each city name (which has been parsed from the data file name) that the first trip has been parsed in the form of a dictionary. When you set up a `DictReader` object, the first row of the data file is normally interpreted as column names. Every other row in the data file will use those column names as keys, as a dictionary is generated for each row.\n",
    "\n",
    "This will be useful since we can refer to quantities by an easily-understandable label instead of just a numeric index. For example, if we have a trip stored in the variable `row`, then we would rather get the trip duration from `row['duration']` instead of `row[0]`.\n",
    "\n",
    "<a id='condensing'></a>\n",
    "### Condensing the Trip Data\n",
    "\n",
    "It should also be observable from the above printout that each city provides different information. Even where the information is the same, the column names and formats are sometimes different. To make things as simple as possible when we get to the actual exploration, we should trim and clean the data. Cleaning the data makes sure that the data formats across the cities are consistent, while trimming focuses only on the parts of the data we are most interested in to make the exploration easier to work with.\n",
    "\n",
    "You will generate new data files with five values of interest for each trip: trip duration, starting month, starting hour, day of the week, and user type. Each of these may require additional wrangling depending on the city:\n",
    "\n",
    "- **Duration**: This has been given to us in seconds (New York, Chicago) or milliseconds (Washington). A more natural unit of analysis will be if all the trip durations are given in terms of minutes.\n",
    "- **Month**, **Hour**, **Day of Week**: Ridership volume is likely to change based on the season, time of day, and whether it is a weekday or weekend. Use the start time of the trip to obtain these values. The New York City data includes the seconds in their timestamps, while Washington and Chicago do not. The [`datetime`](https://docs.python.org/3/library/datetime.html) package will be very useful here to make the needed conversions.\n",
    "- **User Type**: It is possible that users who are subscribed to a bike-share system will have different patterns of use compared to users who only have temporary passes. Washington divides its users into two types: 'Registered' for users with annual, monthly, and other longer-term subscriptions, and 'Casual', for users with 24-hour, 3-day, and other short-term passes. The New York and Chicago data uses 'Subscriber' and 'Customer' for these groups, respectively. For consistency, you will convert the Washington labels to match the other two. It also turns out that there are some trips in the New York city dataset that do not have an attached user type. Since we don't have enough information to fill these values in, just leave them as-is for now.\n",
    "\n",
    "\n",
    "**Question 3a**: Complete the helper functions in the code cells below to address each of the cleaning tasks described above."
   ]
  },
  {
   "cell_type": "code",
   "execution_count": 57,
   "metadata": {
    "collapsed": true
   },
   "outputs": [],
   "source": [
    "def duration_in_mins(datum, city):\n",
    "    \"\"\"\n",
    "    Takes as input a dictionary containing info about a single trip (datum) and\n",
    "    its origin city (city) and returns the trip duration in units of minutes.\n",
    "    \n",
    "    Remember that Washington is in terms of milliseconds while Chicago and NYC\n",
    "    are in terms of seconds. \n",
    "    \n",
    "    HINT: The csv module reads in all of the data as strings, including numeric\n",
    "    values. You will need a function to convert the strings into an appropriate\n",
    "    numeric type when making your transformations.\n",
    "    see https://docs.python.org/3/library/functions.html\n",
    "    \"\"\"\n",
    "    \n",
    "    mill_to_min = 60000.0\n",
    "    sec_to_min = 60.0\n",
    "    if city == \"Washington\":\n",
    "        duration = float(datum[\"Duration (ms)\"])/mill_to_min\n",
    "    elif city == \"Chicago\" or city == \"NYC\":\n",
    "        duration = float(datum[\"tripduration\"])/sec_to_min\n",
    "    return duration\n",
    "\n",
    "\n",
    "# Some tests to check that your code works. There should be no output if all of\n",
    "# the assertions pass. The `example_trips` dictionary was obtained from when\n",
    "# you printed the first trip from each of the original data files.\n",
    "tests = {'NYC': 13.9833,\n",
    "         'Chicago': 15.4333,\n",
    "         'Washington': 7.1231}\n",
    "\n",
    "for city in tests:\n",
    "    assert abs(duration_in_mins(example_trips[city], city) - tests[city]) < .001"
   ]
  },
  {
   "cell_type": "code",
   "execution_count": 58,
   "metadata": {
    "collapsed": true
   },
   "outputs": [],
   "source": [
    "def time_of_trip(datum, city):\n",
    "    \"\"\"\n",
    "    Takes as input a dictionary containing info about a single trip (datum) and\n",
    "    its origin city (city) and returns the month, hour, and day of the week in\n",
    "    which the trip was made.\n",
    "    \n",
    "    Remember that NYC includes seconds, while Washington and Chicago do not.\n",
    "    \n",
    "    HINT: You should use the datetime module to parse the original date\n",
    "    strings into a format that is useful for extracting the desired information.\n",
    "    see https://docs.python.org/3/library/datetime.html#strftime-and-strptime-behavior\n",
    "    \"\"\"\n",
    "    if city == \"Washington\":\n",
    "        time_date = datetime.strptime(datum[\"Start date\"], \"%m/%d/%Y %H:%M\")\n",
    "    elif city == \"Chicago\":\n",
    "        time_date = datetime.strptime(datum[\"starttime\"], \"%m/%d/%Y %H:%M\")\n",
    "    elif city == \"NYC\":\n",
    "        time_date = datetime.strptime(datum[\"starttime\"], \"%m/%d/%Y %H:%M:%S\")\n",
    "    \n",
    "    month = int(time_date.strftime(\"%m\"))\n",
    "    hour = int(time_date.strftime(\"%H\"))\n",
    "    day_of_week = time_date.strftime(\"%A\")\n",
    "    \n",
    "    return (month, hour, day_of_week)\n",
    "\n",
    "#The below test was commented out as differing time zones prevent it from working\n",
    "# Some tests to check that your code works. There should be no output if all of\n",
    "# the assertions pass. The `example_trips` dictionary was obtained from when\n",
    "# you printed the first trip from each of the original data files.\n",
    "tests = {'NYC': (1, 0, 'Friday'),\n",
    "         'Chicago': (3, 23, 'Thursday'),\n",
    "         'Washington': (3, 22, 'Thursday')}\n",
    "\n",
    "for city in tests:\n",
    "    assert time_of_trip(example_trips[city], city) == tests[city]\n",
    "\n"
   ]
  },
  {
   "cell_type": "code",
   "execution_count": 59,
   "metadata": {
    "collapsed": true
   },
   "outputs": [],
   "source": [
    "def type_of_user(datum, city):\n",
    "    \"\"\"\n",
    "    Takes as input a dictionary containing info about a single trip (datum) and\n",
    "    its origin city (city) and returns the type of system user that made the\n",
    "    trip.\n",
    "    \n",
    "    Remember that Washington has different category names compared to Chicago\n",
    "    and NYC. NYC has some data points with a missing user type; you can leave\n",
    "    these as they are (empty string).\n",
    "    \"\"\"\n",
    "    \n",
    "    if city == \"Washington\":\n",
    "        if datum[\"Member Type\"] == \"Registered\":\n",
    "            user_type = \"Subscriber\"\n",
    "        else:\n",
    "            user_type = \"Customer\"\n",
    "    elif city == \"Chicago\":\n",
    "        if datum[\"usertype\"] == \"Subscriber\":\n",
    "            user_type = \"Subscriber\"\n",
    "        else:\n",
    "            user_type = \"Customer\" \n",
    "    elif city == \"NYC\":\n",
    "        if datum[\"usertype\"] == \"Subscriber\":\n",
    "            user_type = \"Subscriber\"\n",
    "        elif datum[\"usertype\"] == \"Customer\":\n",
    "            user_type = \"Customer\"\n",
    "        else:\n",
    "            user_type = \"\"    \n",
    "    \n",
    "    return user_type\n",
    "\n",
    "\n",
    "# Some tests to check that your code works. There should be no output if all of\n",
    "# the assertions pass. The `example_trips` dictionary was obtained from when\n",
    "# you printed the first trip from each of the original data files.\n",
    "tests = {'NYC': 'Customer',\n",
    "         'Chicago': 'Subscriber',\n",
    "         'Washington': 'Subscriber'}\n",
    "\n",
    "for city in tests:\n",
    "    assert type_of_user(example_trips[city], city) == tests[city]"
   ]
  },
  {
   "cell_type": "markdown",
   "metadata": {},
   "source": [
    "**Question 3b**: Now, use the helper functions you wrote above to create a condensed data file for each city consisting only of the data fields indicated above. In the `/examples/` folder, you will see an example datafile from the [Bay Area Bike Share](http://www.bayareabikeshare.com/open-data) before and after conversion. Make sure that your output is formatted to be consistent with the example file."
   ]
  },
  {
   "cell_type": "code",
   "execution_count": 60,
   "metadata": {
    "collapsed": true
   },
   "outputs": [],
   "source": [
    "def condense_data(in_file, out_file, city):\n",
    "    \"\"\"\n",
    "    This function takes full data from the specified input file\n",
    "    and writes the condensed data to a specified output file. The city\n",
    "    argument determines how the input file will be parsed.\n",
    "    \n",
    "    HINT: See the cell below to see how the arguments are structured!\n",
    "    \"\"\"\n",
    "    \n",
    "    with open(out_file, 'w', newline='') as f_out, open(in_file, 'r') as f_in:\n",
    "        # set up csv DictWriter object - writer requires column names for the\n",
    "        # first row as the \"fieldnames\" argument\n",
    "        out_colnames = ['duration', 'month', 'hour', 'day_of_week', 'user_type']        \n",
    "        trip_writer = csv.DictWriter(f_out, fieldnames = out_colnames)\n",
    "        trip_writer.writeheader()\n",
    "        \n",
    "        ## TODO: set up csv DictReader object ##\n",
    "        trip_reader = csv.DictReader(f_in)\n",
    "\n",
    "        # collect data from and process each row\n",
    "        for row in trip_reader:\n",
    "            # set up a dictionary to hold the values for the cleaned and trimmed\n",
    "            # data point\n",
    "            new_point = {}\n",
    "            new_point[\"duration\"] = duration_in_mins(row, city)\n",
    "            month, hour, day_of_week = time_of_trip(row, city)\n",
    "            new_point[\"month\"] = month\n",
    "            new_point[\"hour\"] = hour\n",
    "            new_point[\"day_of_week\"] = day_of_week\n",
    "            new_point[\"user_type\"] = type_of_user(row, city)\n",
    "            ## TODO: use the helper functions to get the cleaned data from  ##\n",
    "            ## the original data dictionaries.                              ##\n",
    "            ## Note that the keys for the new_point dictionary should match ##\n",
    "            ## the column names set in the DictWriter object above.         ##\n",
    "            \n",
    "            trip_writer.writerow(new_point)\n",
    "\n",
    "            ## TODO: write the processed information to the output file.     ##\n",
    "            ## see https://docs.python.org/3/library/csv.html#writer-objects ##\n",
    "            \n",
    "            "
   ]
  },
  {
   "cell_type": "code",
   "execution_count": 61,
   "metadata": {},
   "outputs": [
    {
     "name": "stdout",
     "output_type": "stream",
     "text": [
      "\n",
      "City: Washington\n",
      "\n",
      "City: Chicago\n",
      "\n",
      "City: NYC\n"
     ]
    }
   ],
   "source": [
    "# Run this cell to check your work\n",
    "city_info = {'Washington': {'in_file': './data/Washington-CapitalBikeshare-2016.csv',\n",
    "                            'out_file': './data/Washington-2016-Summary.csv'},\n",
    "             'Chicago': {'in_file': './data/Chicago-Divvy-2016.csv',\n",
    "                         'out_file': './data/Chicago-2016-Summary.csv'},\n",
    "             'NYC': {'in_file': './data/NYC-CitiBike-2016.csv',\n",
    "                     'out_file': './data/NYC-2016-Summary.csv'}}\n",
    "\n",
    "for city, filenames in city_info.items():\n",
    "    condense_data(filenames['in_file'], filenames['out_file'], city)\n",
    "    print_first_point(filenames['out_file'])"
   ]
  },
  {
   "cell_type": "markdown",
   "metadata": {},
   "source": [
    "\n",
    "<a id='eda'></a>\n",
    "## Exploratory Data Analysis\n",
    "\n",
    "Now that you have the data collected and wrangled, you're ready to start exploring the data. In this section you will write some code to compute descriptive statistics from the data. You will also be introduced to the `matplotlib` library to create some basic histograms of the data.\n",
    "\n",
    "<a id='statistics'></a>\n",
    "### Statistics\n",
    "\n",
    "First, let's compute some basic counts. The first cell below contains a function that uses the csv module to iterate through a provided data file, returning the number of trips made by subscribers and customers. The second cell runs this function on the example Bay Area data in the `/examples/` folder. Modify the cells to answer the question below.\n",
    "\n",
    "**Question 4a**: Which city has the highest number of trips? Which city has the highest proportion of trips made by subscribers? Which city has the highest proportion of trips made by short-term customers?\n",
    "\n",
    "**Answer**: NYC had the highest number of trips at a total of 276,081. The Bay Area had the highest proportion of trips made by subscribers at 89.95%, followed closely by NYC at 89.07%. The highest proportion of trips made by short-term customers was in Chicago at 23.77%"
   ]
  },
  {
   "cell_type": "code",
   "execution_count": 62,
   "metadata": {},
   "outputs": [
    {
     "name": "stdout",
     "output_type": "stream",
     "text": [
      "\n",
      "NYC had a total number of 276081 trips recorded. These consisted of 245896 by subscribers and 30185 by customers.\n",
      "\n",
      "Chicago had a total number of 72131 trips recorded. These consisted of 54982 by subscribers and 17149 by customers.\n",
      "\n",
      "Washington had a total number of 66326 trips recorded. These consisted of 51753 by subscribers and 14573 by customers.\n",
      "\n",
      "Bay Area had a total number of 6299 trips recorded. These consisted of 5666 by subscribers and 633 by customers.\n"
     ]
    }
   ],
   "source": [
    "def number_of_trips(filename):\n",
    "    \"\"\"\n",
    "    This function reads in a file with trip data and reports the number of\n",
    "    trips made by subscribers, customers, and total overall.\n",
    "    \"\"\"\n",
    "    with open(filename, 'r') as f_in:\n",
    "        # set up csv reader object\n",
    "        reader = csv.DictReader(f_in)\n",
    "        \n",
    "        # initialize count variables\n",
    "        n_subscribers = 0\n",
    "        n_customers = 0\n",
    "        \n",
    "        # tally up ride types\n",
    "        for row in reader:\n",
    "            if row['user_type'] == 'Subscriber':\n",
    "                n_subscribers += 1\n",
    "            elif row['user_type'] == 'Customer':\n",
    "                n_customers += 1\n",
    "        \n",
    "        # compute total number of rides\n",
    "        n_total = n_subscribers + n_customers\n",
    "        \n",
    "        # return tallies as a tuple\n",
    "        return(n_subscribers, n_customers, n_total)\n",
    "\n",
    "    \n",
    "def con_data(city_count, city):\n",
    "    \"\"\"\n",
    "    Function takes in number of trips function and city. Outputs a string formatted to present\n",
    "    the count data. \n",
    "    \"\"\"\n",
    "    print(\"\\n{} had a total number of {} trips recorded. These consisted of {} by subscribers and {} by customers.\" \\\n",
    "          .format(city, city_count[2], city_count[0], city_count[1]))\n",
    "    \n",
    "con_data(number_of_trips(\"./data/NYC-2016-Summary.csv\"), \"NYC\")\n",
    "con_data(number_of_trips(\"./data/Chicago-2016-Summary.csv\"), \"Chicago\")\n",
    "con_data(number_of_trips(\"./data/Washington-2016-Summary.csv\"), \"Washington\")\n",
    "con_data(number_of_trips(\"./examples/BayArea-Y3-Summary.csv\"), \"Bay Area\")\n"
   ]
  },
  {
   "cell_type": "code",
   "execution_count": 63,
   "metadata": {},
   "outputs": [
    {
     "name": "stdout",
     "output_type": "stream",
     "text": [
      "\n",
      " Total trips in NYC were comprised of 89.07% subscribers and 10.93% customers.\n",
      "\n",
      " Total trips in Chicago were comprised of 76.23% subscribers and 23.77% customers.\n",
      "\n",
      " Total trips in Washington were comprised of 78.03% subscribers and 21.97% customers.\n",
      "\n",
      " Total trips in Bay Area were comprised of 89.95% subscribers and 10.05% customers.\n"
     ]
    }
   ],
   "source": [
    "def proportions(city_count):\n",
    "    '''\n",
    "    Function takes in a tuple (subscriber count, customer count, total count) and performs calculation to find\n",
    "    the proportions each make up of the total. It then returns these proportions as a tuple\n",
    "    '''\n",
    "    subscriber_prop = format((city_count[0]/city_count[2])*100, '.2f')\n",
    "    customer_prop = format((city_count[1]/city_count[2])*100, '.2f')\n",
    "    return(subscriber_prop, customer_prop)\n",
    "\n",
    "def prop_data(city_props, city):\n",
    "    \"\"\"\n",
    "    Function takes in prop data tuple and a city string and outputs a formatted sentence displaying proportion data\n",
    "    \"\"\"\n",
    "    print(\"\\n Total trips in {} were comprised of {}% subscribers and {}% customers.\" \\\n",
    "          .format(city, city_props[0], city_props[1]))\n",
    "    \n",
    "prop_data(proportions(number_of_trips(\"./data/NYC-2016-Summary.csv\")), \"NYC\")\n",
    "prop_data(proportions(number_of_trips(\"./data/Chicago-2016-Summary.csv\")), \"Chicago\")\n",
    "prop_data(proportions(number_of_trips(\"./data/Washington-2016-Summary.csv\")), \"Washington\")\n",
    "prop_data(proportions(number_of_trips(\"./examples/BayArea-Y3-Summary.csv\")), \"Bay Area\")"
   ]
  },
  {
   "cell_type": "markdown",
   "metadata": {},
   "source": [
    "\n",
    "Now, you will write your own code to continue investigating properties of the data.\n",
    "\n",
    "**Question 4b**: Bike-share systems are designed for riders to take short trips. Most of the time, users are allowed to take trips of 30 minutes or less with no additional charges, with overage charges made for trips of longer than that duration. What is the average trip length for each city? What proportion of rides made in each city are longer than 30 minutes?\n",
    "\n",
    "**Answer**: The average trip length for each city is printed out below. They were 15.81 minutes in NYC, 16.56 minutes in Chicago, 18.93 minutes in Washington and 14.04 minutes in the Bay Area. The proportion of rides over 30 minutes are printed out below. They were 7.30% in NYC, 8.33% in Chicago, 10.84% in Washington and 3.52% in the Bay Area. "
   ]
  },
  {
   "cell_type": "code",
   "execution_count": 64,
   "metadata": {
    "collapsed": true,
    "scrolled": true
   },
   "outputs": [],
   "source": [
    "## Use this and additional cells to answer Question 4b.                 ##\n",
    "##                                                                      ##\n",
    "## HINT: The csv module reads in all of the data as strings, including  ##\n",
    "## numeric values. You will need a function to convert the strings      ##\n",
    "## into an appropriate numeric type before you aggregate data.          ##\n",
    "## TIP: For the Bay Area example, the average trip length is 14 minutes ##\n",
    "## and 3.5% of trips are longer than 30 minutes.                        ##\n",
    "\n",
    "def trip_length(filename):\n",
    "    '''\n",
    "    Function takes in a filename for a csv data file. It then creates a list of durations from the read data\n",
    "    '''\n",
    "    with open(filename, 'r') as f_in:\n",
    "        # set up csv reader object\n",
    "        reader = csv.DictReader(f_in)\n",
    "        durations = []\n",
    "        for row in reader:\n",
    "            row[\"duration\"] = float(row[\"duration\"])\n",
    "            durations.append(row[\"duration\"])\n",
    "    return durations\n"
   ]
  },
  {
   "cell_type": "code",
   "execution_count": 65,
   "metadata": {},
   "outputs": [
    {
     "name": "stdout",
     "output_type": "stream",
     "text": [
      "\n",
      "Average trip duration for NYC was 15.81 minutes\n",
      "\n",
      "Average trip duration for Chicago was 16.56 minutes\n",
      "\n",
      "Average trip duration for Washington was 18.93 minutes\n",
      "\n",
      "Average trip duration for the Bay Area was 14.04 minutes\n"
     ]
    }
   ],
   "source": [
    "def avg_duration(city_duration):\n",
    "    '''\n",
    "    Simple function that returns the mean of a list of values.\n",
    "    '''\n",
    "    average = format(sum(city_duration)/len(city_duration), '.2f')\n",
    "    return average\n",
    "\n",
    "print(\"\\nAverage trip duration for NYC was {} minutes\".format(avg_duration(trip_length(\"./data/NYC-2016-Summary.csv\"))))\n",
    "print(\"\\nAverage trip duration for Chicago was {} minutes\".format(avg_duration(trip_length(\"./data/Chicago-2016-Summary.csv\"))))\n",
    "print(\"\\nAverage trip duration for Washington was {} minutes\".format(avg_duration(trip_length(\"./data/Washington-2016-Summary.csv\"))))\n",
    "print(\"\\nAverage trip duration for the Bay Area was {} minutes\".format(avg_duration(trip_length('./examples/BayArea-Y3-Summary.csv'))))"
   ]
  },
  {
   "cell_type": "code",
   "execution_count": 66,
   "metadata": {},
   "outputs": [
    {
     "name": "stdout",
     "output_type": "stream",
     "text": [
      "\n",
      "In NYC, 7.30% of trips were over 30 minutes long\n",
      "\n",
      "In Chicago, 8.33% of trips were over 30 minutes long\n",
      "\n",
      "In Washington, 10.84% of trips were over 30 minutes long\n",
      "\n",
      "In the Bay Area, 3.52% of trips were over 30 minutes long\n"
     ]
    }
   ],
   "source": [
    "def under_thirty_dur(durations):\n",
    "    '''\n",
    "    Function that takes in a list of durations and performs a tally of those under and over 30 minutes. \n",
    "    Returns the over 30 count.\n",
    "    '''\n",
    "    under_tally = 0\n",
    "    over_tally = 0\n",
    "    for item in durations:\n",
    "        if item <= 30.0:\n",
    "            under_tally += 1\n",
    "        else:\n",
    "            over_tally += 1\n",
    "    over_prop = format((over_tally/(over_tally + under_tally))* 100, '.2f')\n",
    "    return over_prop\n",
    "\n",
    "print(\"\\nIn NYC, {}% of trips were over 30 minutes long\".format(under_thirty_dur(trip_length(\"./data/NYC-2016-Summary.csv\"))))\n",
    "print(\"\\nIn Chicago, {}% of trips were over 30 minutes long\".format(under_thirty_dur(trip_length(\"./data/Chicago-2016-Summary.csv\"))))\n",
    "print(\"\\nIn Washington, {}% of trips were over 30 minutes long\".format(under_thirty_dur(trip_length(\"./data/Washington-2016-Summary.csv\"))))\n",
    "print(\"\\nIn the Bay Area, {}% of trips were over 30 minutes long\".format(under_thirty_dur(trip_length('./examples/BayArea-Y3-Summary.csv'))))"
   ]
  },
  {
   "cell_type": "markdown",
   "metadata": {},
   "source": [
    "**Question 4c**: Dig deeper into the question of trip duration based on ridership. Choose one city. Within that city, which type of user takes longer rides on average: Subscribers or Customers?\n",
    "\n",
    "**Answer**: In NYC, average trip time for subscribers was 13.68 minutes and the average trip time for customers was 32.78 minutes. Customers take longer rides on average. "
   ]
  },
  {
   "cell_type": "code",
   "execution_count": 67,
   "metadata": {},
   "outputs": [
    {
     "name": "stdout",
     "output_type": "stream",
     "text": [
      "\n",
      "In NYC, the average trip time of subscribers was 13.68 minutes and the average trip time of customers was 32.78 minutes.\n",
      "None\n",
      "\n",
      "In Chicago, the average trip time of subscribers was 12.07 minutes and the average trip time of customers was 30.98 minutes.\n",
      "None\n",
      "\n",
      "In Washington, the average trip time of subscribers was 12.53 minutes and the average trip time of customers was 41.68 minutes.\n",
      "None\n",
      "\n",
      "In The Bay Area, the average trip time of subscribers was 9.51 minutes and the average trip time of customers was 54.55 minutes.\n",
      "None\n"
     ]
    }
   ],
   "source": [
    "## Use this and additional cells to answer Question 4c. If you have    ##\n",
    "## not done so yet, consider revising some of your previous code to    ##\n",
    "## make use of functions for reusability.                              ##\n",
    "##                                                                     ##\n",
    "## TIP: For the Bay Area example data, you should find the average     ##\n",
    "## Subscriber trip duration to be 9.5 minutes and the average Customer ##\n",
    "## trip duration to be 54.6 minutes. Do the other cities have this     ##\n",
    "## level of difference?                                                ##\n",
    "\n",
    "def longer_users(filename):\n",
    "    '''\n",
    "    Function that takes in data from a csv file and divides durations based on user type. Returns a tuple of lists\n",
    "    containing the durations for each. \n",
    "    '''\n",
    "    with open(filename, 'r') as f_in:\n",
    "        reader = csv.DictReader(f_in)\n",
    "        subscriber_duration = []\n",
    "        customer_duration = []\n",
    "        for row in reader:\n",
    "            row[\"duration\"] = float(row[\"duration\"])\n",
    "            if row[\"user_type\"] == \"Subscriber\":\n",
    "                subscriber_duration.append(row[\"duration\"])\n",
    "            else:\n",
    "                customer_duration.append(row[\"duration\"])\n",
    "        return subscriber_duration, customer_duration\n",
    "        \n",
    "    \n",
    "\n",
    "def avg_users(user_data):\n",
    "    '''\n",
    "    Simple function that passes both the values from the input tuple through the av_duration function\n",
    "    returns the average for both in tuple form. \n",
    "    '''\n",
    "    sub_average = float(avg_duration(user_data[0]))\n",
    "    cus_average = float(avg_duration(user_data[1]))\n",
    "    return sub_average, cus_average\n",
    "\n",
    "def user_form(longest_users, city):\n",
    "    '''\n",
    "    Function used to format the average data into a readable print statement\n",
    "    '''\n",
    "    sub_avg, cus_avg = longest_users\n",
    "    \n",
    "    print(\"\\nIn {}, the average trip time of subscribers was {} minutes and the average trip time of customers was {} minutes.\" \\\n",
    "         .format(city, sub_avg, cus_avg))\n",
    "    \n",
    "print(user_form(avg_users(longer_users(\"./data/NYC-2016-Summary.csv\")), \"NYC\"))\n",
    "print(user_form(avg_users(longer_users(\"./data/Chicago-2016-Summary.csv\")), \"Chicago\"))\n",
    "print(user_form(avg_users(longer_users(\"./data/Washington-2016-Summary.csv\")), \"Washington\"))\n",
    "print(user_form(avg_users(longer_users(\"./examples/BayArea-Y3-Summary.csv\")), \"The Bay Area\"))"
   ]
  },
  {
   "cell_type": "markdown",
   "metadata": {},
   "source": [
    "<a id='visualizations'></a>\n",
    "### Visualizations\n",
    "\n",
    "The last set of values that you computed should have pulled up an interesting result. While the mean trip time for Subscribers is well under 30 minutes, the mean trip time for Customers is actually _above_ 30 minutes! It will be interesting for us to look at how the trip times are distributed. In order to do this, a new library will be introduced here, `matplotlib`. Run the cell below to load the library and to generate an example plot."
   ]
  },
  {
   "cell_type": "code",
   "execution_count": 68,
   "metadata": {},
   "outputs": [
    {
     "data": {
      "image/png": "[encoded data removed]",
      "text/plain": [
       "<matplotlib.figure.Figure at 0x4ae45a3828>"
      ]
     },
     "metadata": {},
     "output_type": "display_data"
    }
   ],
   "source": [
    "# load library\n",
    "import matplotlib.pyplot as plt\n",
    "import numpy as np\n",
    "\n",
    "# this is a 'magic word' that allows for plots to be displayed\n",
    "# inline with the notebook. If you want to know more, see:\n",
    "# http://ipython.readthedocs.io/en/stable/interactive/magics.html\n",
    "%matplotlib inline \n",
    "\n",
    "# example histogram, data taken from bay area sample\n",
    "data = [ 7.65,  8.92,  7.42,  5.50, 16.17,  4.20,  8.98,  9.62, 11.48, 14.33,\n",
    "        19.02, 21.53,  3.90,  7.97,  2.62,  2.67,  3.08, 14.40, 12.90,  7.83,\n",
    "        25.12,  8.30,  4.93, 12.43, 10.60,  6.17, 10.88,  4.78, 15.15,  3.53,\n",
    "         9.43, 13.32, 11.72,  9.85,  5.22, 15.10,  3.95,  3.17,  8.78,  1.88,\n",
    "         4.55, 12.68, 12.38,  9.78,  7.63,  6.45, 17.38, 11.90, 11.52,  8.63,]\n",
    "plt.hist(data)\n",
    "plt.title('Distribution of Trip Durations')\n",
    "plt.xlabel('Duration (m)')\n",
    "plt.show()"
   ]
  },
  {
   "cell_type": "markdown",
   "metadata": {},
   "source": [
    "In the above cell, we collected fifty trip times in a list, and passed this list as the first argument to the `.hist()` function. This function performs the computations and creates plotting objects for generating a histogram, but the plot is actually not rendered until the `.show()` function is executed. The `.title()` and `.xlabel()` functions provide some labeling for plot context.\n",
    "\n",
    "You will now use these functions to create a histogram of the trip times for the city you selected in question 4c. Don't separate the Subscribers and Customers for now: just collect all of the trip times and plot them."
   ]
  },
  {
   "cell_type": "code",
   "execution_count": 69,
   "metadata": {},
   "outputs": [
    {
     "data": {
      "image/png": "[encoded data removed]",
      "text/plain": [
       "<matplotlib.figure.Figure at 0x4a8e773fd0>"
      ]
     },
     "metadata": {},
     "output_type": "display_data"
    }
   ],
   "source": [
    "## Use this and additional cells to collect all of the trip times as a list ##\n",
    "## and then use pyplot functions to generate a histogram of trip times.     ##\n",
    "\n",
    "plt.hist(trip_length(\"./data/NYC-2016-Summary.csv\"))\n",
    "plt.title('Distribution of Trip Durations')\n",
    "plt.xlabel('Duration (m)')\n",
    "plt.show()"
   ]
  },
  {
   "cell_type": "markdown",
   "metadata": {},
   "source": [
    "If you followed the use of the `.hist()` and `.show()` functions exactly like in the example, you're probably looking at a plot that's completely unexpected. The plot consists of one extremely tall bar on the left, maybe a very short second bar, and a whole lot of empty space in the center and right. Take a look at the duration values on the x-axis. This suggests that there are some highly infrequent outliers in the data. Instead of reprocessing the data, you will use additional parameters with the `.hist()` function to limit the range of data that is plotted. Documentation for the function can be found [[here]](https://matplotlib.org/devdocs/api/_as_gen/matplotlib.pyplot.hist.html#matplotlib.pyplot.hist).\n",
    "\n",
    "**Question 5**: Use the parameters of the `.hist()` function to plot the distribution of trip times for the Subscribers in your selected city. Do the same thing for only the Customers. Add limits to the plots so that only trips of duration less than 75 minutes are plotted. As a bonus, set the plots up so that bars are in five-minute wide intervals. For each group, where is the peak of each distribution? How would you describe the shape of each distribution?\n",
    "\n",
    "**Answer**: For the subscribers group, the peak occurs at 5-10 minutes and the distribution is skewed right. For the customers group, the peak occurs at 20-25 minutes and the distribution if somewhat symmetrical (slightly skewed right). "
   ]
  },
  {
   "cell_type": "code",
   "execution_count": 70,
   "metadata": {},
   "outputs": [
    {
     "data": {
      "image/png": "[encoded data removed]",
      "text/plain": [
       "<matplotlib.figure.Figure at 0x4a8e027208>"
      ]
     },
     "metadata": {},
     "output_type": "display_data"
    }
   ],
   "source": [
    "## Use this and additional cells to answer Question 5. ##\n",
    "plt.hist(longer_users(\"./data/NYC-2016-Summary.csv\")[0], bins = 15, range = (0, 75))\n",
    "plt.title('Distribution of Subscriber Trip Durations')\n",
    "plt.xlabel('Duration (m)')\n",
    "plt.show()"
   ]
  },
  {
   "cell_type": "code",
   "execution_count": 71,
   "metadata": {},
   "outputs": [
    {
     "data": {
      "image/png": "[encoded data removed]",
      "text/plain": [
       "<matplotlib.figure.Figure at 0x4a8e7d0550>"
      ]
     },
     "metadata": {},
     "output_type": "display_data"
    }
   ],
   "source": [
    "plt.hist(longer_users(\"./data/NYC-2016-Summary.csv\")[1], bins = 15, range = (0, 75))\n",
    "plt.title('Distribution of Customer Trip Durations')\n",
    "plt.xlabel('Duration (m)')\n",
    "plt.show()"
   ]
  },
  {
   "cell_type": "markdown",
   "metadata": {
    "collapsed": true
   },
   "source": [
    "<a id='eda_continued'></a>\n",
    "## Performing Your Own Analysis\n",
    "\n",
    "So far, you've performed an initial exploration into the data available. You have compared the relative volume of trips made between three U.S. cities and the ratio of trips made by Subscribers and Customers. For one of these cities, you have investigated differences between Subscribers and Customers in terms of how long a typical trip lasts. Now it is your turn to continue the exploration in a direction that you choose. Here are a few suggestions for questions to explore:\n",
    "\n",
    "- How does ridership differ by month or season? Which month / season has the highest ridership? Does the ratio of Subscriber trips to Customer trips change depending on the month or season?\n",
    "- Is the pattern of ridership different on the weekends versus weekdays? On what days are Subscribers most likely to use the system? What about Customers? Does the average duration of rides change depending on the day of the week?\n",
    "- During what time of day is the system used the most? Is there a difference in usage patterns for Subscribers and Customers?\n",
    "\n",
    "If any of the questions you posed in your answer to question 1 align with the bullet points above, this is a good opportunity to investigate one of them. As part of your investigation, you will need to create a visualization. If you want to create something other than a histogram, then you might want to consult the [Pyplot documentation](https://matplotlib.org/devdocs/api/pyplot_summary.html). In particular, if you are plotting values across a categorical variable (e.g. city, user type), a bar chart will be useful. The [documentation page for `.bar()`](https://matplotlib.org/devdocs/api/_as_gen/matplotlib.pyplot.bar.html#matplotlib.pyplot.bar) includes links at the bottom of the page with examples for you to build off of for your own use.\n",
    "\n",
    "**Question 6**: Continue the investigation by exploring another question that could be answered by the data available. Document the question you want to explore below. Your investigation should involve at least two variables and should compare at least two groups. You should also use at least one visualization as part of your explorations.\n",
    "\n",
    "**Answer**: Observations and visualisations are written in the sections below."
   ]
  },
  {
   "cell_type": "code",
   "execution_count": 72,
   "metadata": {
    "collapsed": true
   },
   "outputs": [],
   "source": [
    "## Use this and additional cells to continue to explore the dataset. ##\n",
    "## Once you have performed your exploration, document your findings  ##\n",
    "## in the Markdown cell above.                                       ##\n",
    "\n",
    "def read_in_city(filename):\n",
    "    '''\n",
    "    Function to read in data from a csv file and return an ordered dict from this data\n",
    "    '''\n",
    "    with open(filename, 'r') as f_in:\n",
    "        reader = csv.DictReader(f_in)\n",
    "        return list(reader)\n",
    "    \n",
    "NYC_data = read_in_city(\"./data/NYC-2016-Summary.csv\")\n",
    "Chicago_data = read_in_city(\"./data/Chicago-2016-Summary.csv\")\n",
    "Washington_data = read_in_city(\"./data/Washington-2016-Summary.csv\")\n",
    "Bay_area_data = read_in_city(\"./examples/BayArea-Y3-Summary.csv\")"
   ]
  },
  {
   "cell_type": "markdown",
   "metadata": {},
   "source": [
    "### Durations for all NYC users sorted by day of week"
   ]
  },
  {
   "cell_type": "code",
   "execution_count": 73,
   "metadata": {},
   "outputs": [
    {
     "name": "stdout",
     "output_type": "stream",
     "text": [
      "[15.07595238095228, 14.297031403529449, 14.636322047696872, 14.552951725693545, 16.023964096740567, 18.795957884848054, 18.789433954239893]\n"
     ]
    }
   ],
   "source": [
    "from collections import OrderedDict\n",
    "\n",
    "def dur_per_day(city_data):\n",
    "    '''\n",
    "    Function to sort an input ordered dict into a dictionary of lists for each day of the week. Returns dictionary.\n",
    "    '''\n",
    "    day_sorted = OrderedDict([(\"Monday\", []), (\"Tuesday\", []), (\"Wednesday\", []), (\"Thursday\", []), (\"Friday\", []), (\"Saturday\", []), (\"Sunday\", [])])\n",
    "    for trip in city_data:\n",
    "            day_sorted[trip[\"day_of_week\"]].append(float(trip[\"duration\"]))\n",
    "    return day_sorted\n",
    "\n",
    "def avg_per_day(day_data):\n",
    "    '''\n",
    "    Function that will find the averages of list items in a dictionary and return a list of these averages for use\n",
    "    in visualisations.\n",
    "    '''\n",
    "    day_averages = []\n",
    "    for day in day_data:\n",
    "        day_averages.append(sum(day_data[day])/len(day_data[day]))\n",
    "    return day_averages\n",
    "\n",
    "print(avg_per_day(dur_per_day(NYC_data)))"
   ]
  },
  {
   "cell_type": "code",
   "execution_count": 74,
   "metadata": {},
   "outputs": [
    {
     "data": {
      "image/png": "[encoded data removed]",
      "text/plain": [
       "<matplotlib.figure.Figure at 0x4af5db0ba8>"
      ]
     },
     "metadata": {},
     "output_type": "display_data"
    }
   ],
   "source": [
    "objects = (\"Mon\", \"Tue\", \"Wed\", \"Thu\", \"Fri\", \"Sat\", \"Sun\")\n",
    "y_pos = np.arange(len(objects))\n",
    "performance = avg_per_day(dur_per_day(NYC_data))\n",
    " \n",
    "plt.bar(y_pos, performance, align='center', alpha=0.8)\n",
    "plt.xticks(y_pos, objects)\n",
    "plt.ylabel('Average Duration')\n",
    "plt.title('Daily rider duration for NYC')\n",
    " \n",
    "plt.show()"
   ]
  },
  {
   "cell_type": "markdown",
   "metadata": {},
   "source": [
    "As we can see from the above diagram, users will on average travel for longer durations on the weekends compared with through the week. This could be because through the week most trips are work related and weekends trips are leisure related. To explore this pattern in more detail, the following section will split user data into their two groups (subscribers and customers) and explore which group is more active on which days. "
   ]
  },
  {
   "cell_type": "markdown",
   "metadata": {},
   "source": [
    "### Sorting trip data by type of user"
   ]
  },
  {
   "cell_type": "code",
   "execution_count": 75,
   "metadata": {},
   "outputs": [
    {
     "name": "stdout",
     "output_type": "stream",
     "text": [
      "OrderedDict([('Monday', 35623), ('Tuesday', 39487), ('Wednesday', 41403), ('Thursday', 41197), ('Friday', 37606), ('Saturday', 26126), ('Sunday', 24454)])\n",
      "OrderedDict([('Monday', 3717), ('Tuesday', 2918), ('Wednesday', 3226), ('Thursday', 3133), ('Friday', 3783), ('Saturday', 7227), ('Sunday', 6898)])\n"
     ]
    }
   ],
   "source": [
    "def dur_per_day(city_data):\n",
    "    '''\n",
    "    Function to sort ordered dict into two dictionaries of day of the week counts. Returns a tuple of dictionaries.\n",
    "    '''\n",
    "    sub_sorted = OrderedDict([(\"Monday\", 0), (\"Tuesday\", 0), (\"Wednesday\", 0), (\"Thursday\", 0), (\"Friday\", 0), (\"Saturday\", 0), (\"Sunday\", 0)])\n",
    "    cus_sorted = OrderedDict([(\"Monday\", 0), (\"Tuesday\", 0), (\"Wednesday\", 0), (\"Thursday\", 0), (\"Friday\", 0), (\"Saturday\", 0), (\"Sunday\", 0)])\n",
    "    for trip in city_data:\n",
    "            if trip[\"user_type\"] == \"Subscriber\":\n",
    "                sub_sorted[trip[\"day_of_week\"]] += 1\n",
    "                #sub_sorted[trip[\"day_of_week\"]].append(float(trip[\"duration\"]))\n",
    "            else:\n",
    "                cus_sorted[trip[\"day_of_week\"]] += 1\n",
    "    return sub_sorted, cus_sorted\n",
    "\n",
    "def format_daily_dur(day_data):\n",
    "    '''\n",
    "    Function to convert dictionary of values into list of values to be used for visualisation.\n",
    "    '''\n",
    "    formed_list = []\n",
    "    for day in day_data:\n",
    "        formed_list.append(day_data[day])\n",
    "    return formed_list\n",
    "\n",
    "print(dur_per_day(NYC_data)[0])\n",
    "print(dur_per_day(NYC_data)[1])"
   ]
  },
  {
   "cell_type": "markdown",
   "metadata": {},
   "source": [
    "### Trip frequency for subscribers sorted by day of the week"
   ]
  },
  {
   "cell_type": "code",
   "execution_count": 76,
   "metadata": {},
   "outputs": [
    {
     "data": {
      "image/png": "[encoded data removed]",
      "text/plain": [
       "<matplotlib.figure.Figure at 0x4a8db5e978>"
      ]
     },
     "metadata": {},
     "output_type": "display_data"
    }
   ],
   "source": [
    "objects = (\"Mon\", \"Tue\", \"Wed\", \"Thu\", \"Fri\", \"Sat\", \"Sun\")\n",
    "y_pos = np.arange(len(objects))\n",
    "performance = format_daily_dur(dur_per_day(NYC_data)[0])\n",
    " \n",
    "plt.bar(y_pos, performance, align='center', alpha=0.8)\n",
    "plt.xticks(y_pos, objects)\n",
    "plt.ylabel('Number of Trips')\n",
    "plt.title('NYC subscriber trip frequency by day of week')\n",
    " \n",
    "plt.show()"
   ]
  },
  {
   "cell_type": "markdown",
   "metadata": {},
   "source": [
    "As we can see from the above diagram, subscribers highest frequency is on weekdays, particularly Wednesday and Thursday. This could be attributed to subscribers using the service to get to and from work, however we would need to analyse much more data to test this theory. "
   ]
  },
  {
   "cell_type": "markdown",
   "metadata": {},
   "source": [
    "### Trip frequency for customers sorted by day of the week"
   ]
  },
  {
   "cell_type": "code",
   "execution_count": 77,
   "metadata": {},
   "outputs": [
    {
     "data": {
      "image/png": "[encoded data removed]",
      "text/plain": [
       "<matplotlib.figure.Figure at 0x4a8aefcef0>"
      ]
     },
     "metadata": {},
     "output_type": "display_data"
    }
   ],
   "source": [
    "objects = (\"Mon\", \"Tue\", \"Wed\", \"Thu\", \"Fri\", \"Sat\", \"Sun\")\n",
    "y_pos = np.arange(len(objects))\n",
    "performance = customer_daily_data = format_daily_dur(dur_per_day(NYC_data)[1])\n",
    " \n",
    "plt.bar(y_pos, performance, align='center', alpha=0.8)\n",
    "plt.xticks(y_pos, objects)\n",
    "plt.ylabel('Number of Trips')\n",
    "plt.title('NYC subscriber trip frequency by day of week')\n",
    " \n",
    "plt.show()"
   ]
  },
  {
   "cell_type": "markdown",
   "metadata": {},
   "source": [
    "As we can see from the above diagram, customers highest frequency is on weekends. Weekend frequency is almost double that for any of the weekdays. This could be attributed to customers using the service for leisure activities which are primarily performed on the weekends."
   ]
  },
  {
   "cell_type": "markdown",
   "metadata": {},
   "source": [
    "<a id='conclusions'></a>\n",
    "## Conclusions\n",
    "\n",
    "Congratulations on completing the project! This is only a sampling of the data analysis process: from generating questions, wrangling the data, and to exploring the data. Normally, at this point in the data analysis process, you might want to draw conclusions about the data by performing a statistical test or fitting the data to a model for making predictions. There are also a lot of potential analyses that could be performed on the data which are not possible with only the data provided. For example, detailed location data has not been investigated. Where are the most commonly used docks? What are the most common routes? As another example, weather has potential to have a large impact on daily ridership. How much is ridership impacted when there is rain or snow? Are subscribers or customers affected more by changes in weather?"
   ]
  },
  {
   "cell_type": "code",
   "execution_count": null,
   "metadata": {
    "collapsed": true
   },
   "outputs": [],
   "source": []
  }
 ],
 "metadata": {
  "anaconda-cloud": {},
  "kernelspec": {
   "display_name": "Python 3",
   "language": "python",
   "name": "python3"
  },
  "language_info": {
   "codemirror_mode": {
    "name": "ipython",
    "version": 3
   },
   "file_extension": ".py",
   "mimetype": "text/x-python",
   "name": "python",
   "nbconvert_exporter": "python",
   "pygments_lexer": "ipython3",
   "version": "3.6.2"
  }
 },
 "nbformat": 4,
 "nbformat_minor": 1
}
